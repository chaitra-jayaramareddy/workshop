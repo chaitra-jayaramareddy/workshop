{
 "cells": [
  {
   "cell_type": "markdown",
   "id": "e3aa9b65",
   "metadata": {},
   "source": [
    "Provide Milvus connection details below  and API key "
   ]
  },
  {
   "cell_type": "code",
   "execution_count": null,
   "id": "28d0483d",
   "metadata": {},
   "outputs": [],
   "source": [
    "#conect to milvus\n",
    "from pymilvus import Collection, connections, utility,  CollectionSchema, FieldSchema, DataType\n",
    "connections.connect(\n",
    "    alias=\"default\", \n",
    "    uri = 'https://<GRPC host>:<GRPC port>',\n",
    "    user=\"ibmlhapikey\",\n",
    "    password=\"<apikey>\"  #same api key will be using will adding milvus custom extension\n",
    ")\n",
    "print(\"Connected to Milvus\")\n",
    "\n",
    "utility.list_collections()"
   ]
  },
  {
   "cell_type": "markdown",
   "id": "74b14502",
   "metadata": {},
   "source": [
    "Provide  Collection Name Below "
   ]
  },
  {
   "cell_type": "code",
   "execution_count": null,
   "id": "008d5045",
   "metadata": {},
   "outputs": [],
   "source": [
    "from sentence_transformers import SentenceTransformer\n",
    "\n",
    "# Initialize model\n",
    "model = SentenceTransformer('all-MiniLM-L6-v2')   #Sentence Transformer model \n",
    "\n",
    "collection_name = \"<collection name>\"   # Provide collection name \n",
    "\n",
    "# Step 1: Extract page-wise text\n",
    "def extract_text_by_page(pdf_path):\n",
    "    reader = PdfReader(pdf_path)\n",
    "    return [{\"text\": page.extract_text() or \"\", \"page_number\": i+1} for i, page in enumerate(reader.pages)]\n"
   ]
  },
  {
   "cell_type": "code",
   "execution_count": null,
   "id": "852ccc9f",
   "metadata": {},
   "outputs": [],
   "source": [
    "# Step 2: Chunk text with page number embedded directly in text\n",
    "def preprocess_page_chunks(pages, chunk_size=512):\n",
    "    chunks = []\n",
    "    for page in pages:\n",
    "        text = page[\"text\"]\n",
    "        page_number = page[\"page_number\"]\n",
    "        page_chunks = [text[i:i+chunk_size] for i in range(0, len(text), chunk_size)]\n",
    "        for chunk in page_chunks:\n",
    "            cleaned_chunk = chunk.replace('\\n', ' ').strip()\n",
    "            chunks.append({\n",
    "                \"text\": f\"[Page {page_number}] {cleaned_chunk}\"\n",
    "            })\n",
    "    return chunks\n"
   ]
  },
  {
   "cell_type": "code",
   "execution_count": null,
   "id": "64bb50e6",
   "metadata": {},
   "outputs": [],
   "source": [
    "# Step 3: Generate embeddings\n",
    "def generate_embeddings(texts):\n",
    "    return model.encode(texts, convert_to_numpy=True)\n"
   ]
  },
  {
   "cell_type": "markdown",
   "id": "c494666e",
   "metadata": {},
   "source": [
    "Inserting Data "
   ]
  },
  {
   "cell_type": "code",
   "execution_count": null,
   "id": "a23d403f",
   "metadata": {},
   "outputs": [],
   "source": [
    "# Step 4: Insert into Milvus\n",
    "def batch_insert(collection, embeddings, chunks, file_name, batch_size=500):\n",
    "    num_entries = len(embeddings)\n",
    "    for start in range(0, num_entries, batch_size):\n",
    "        end = min(start + batch_size, num_entries)\n",
    "        batch_embeddings = embeddings[start:end]\n",
    "        batch_chunks = chunks[start:end]\n",
    "\n",
    "        batch_texts = [chunk['text'] for chunk in batch_chunks]\n",
    "        batch_file_names = [file_name] * len(batch_chunks)\n",
    "\n",
    "        data = [\n",
    "            batch_embeddings.tolist(),     # embedding\n",
    "            batch_texts,                   # text\n",
    "            batch_file_names               # file_name\n",
    "        ]\n",
    "\n",
    "        collection.insert(data)\n",
    "        print(f\"Inserted batch from {start} to {end}\")\n"
   ]
  },
  {
   "cell_type": "code",
   "execution_count": null,
   "id": "7b896d24",
   "metadata": {},
   "outputs": [],
   "source": [
    "from pymilvus import Collection, CollectionSchema, FieldSchema, DataType, utility\n",
    "\n",
    "def create_collection_if_not_exists():\n",
    "    if collection_name in utility.list_collections():\n",
    "        return Collection(collection_name)\n",
    "\n",
    "    fields = [\n",
    "        FieldSchema(name='id', dtype=DataType.INT64, is_primary=True, auto_id=True),\n",
    "        FieldSchema(name='embedding', dtype=DataType.FLOAT_VECTOR, dim=384),\n",
    "        FieldSchema(name='text', dtype=DataType.VARCHAR, max_length=2048),\n",
    "        FieldSchema(name='file_name', dtype=DataType.VARCHAR, max_length=512)\n",
    "    ]\n",
    "\n",
    "    schema = CollectionSchema(fields, description=\"Collection for PDF text chunks\")\n",
    "    collection = Collection(name=collection_name, schema=schema)\n",
    "\n",
    "    print(f\"Created collection '{collection_name}' with schema.\")\n",
    "    return collection\n"
   ]
  },
  {
   "cell_type": "markdown",
   "id": "fdc73ec3",
   "metadata": {},
   "source": [
    "Creating an index on the column in the inserted data"
   ]
  },
  {
   "cell_type": "code",
   "execution_count": null,
   "id": "ada5ec75",
   "metadata": {},
   "outputs": [],
   "source": [
    "def create_index(collection):\n",
    "    # Step 1: Release the collection if loaded\n",
    "    try:\n",
    "        collection.release()\n",
    "        print(\"Collection released.\")\n",
    "    except Exception as e:\n",
    "        print(f\"Error releasing collection: {e}\")\n",
    "\n",
    "    # Step 2: Drop existing index if present\n",
    "    try:\n",
    "        collection.drop_index()\n",
    "        print(\"Existing index dropped.\")\n",
    "    except Exception as e:\n",
    "        print(f\"No existing index to drop or error: {e}\")\n",
    "\n",
    "    # Step 3: Create new index\n",
    "    index_params = {\n",
    "        \"metric_type\": \"L2\",\n",
    "        \"index_type\": \"IVF_FLAT\",\n",
    "        \"params\": {\"nlist\": 128}\n",
    "    }\n",
    "    collection.create_index(field_name=\"embedding\", index_params=index_params)\n",
    "    print(\"Index created successfully.\")\n",
    "\n",
    "    # Step 4: Load collection for search\n",
    "    collection.load()\n"
   ]
  },
  {
   "cell_type": "markdown",
   "id": "eca10afd",
   "metadata": {},
   "source": [
    "Provide PDF path below "
   ]
  },
  {
   "cell_type": "code",
   "execution_count": null,
   "id": "c92bcf68",
   "metadata": {},
   "outputs": [],
   "source": [
    "import os\n",
    "from pymilvus import Collection, CollectionSchema, FieldSchema, DataType\n",
    "from sentence_transformers import SentenceTransformer\n",
    "from PyPDF2 import PdfReader\n",
    "\n",
    "# Step 7: Main Execution\n",
    "pdf_path = '<provide complete path to your pdf file> '   #PDF path \n",
    "file_name = os.path.basename(pdf_path)\n",
    "\n",
    "pages = extract_text_by_page(pdf_path)\n",
    "chunks = preprocess_page_chunks(pages)\n",
    "embeddings = generate_embeddings([chunk['text'] for chunk in chunks])\n",
    "\n",
    "collection = create_collection_if_not_exists()\n",
    "batch_insert(collection, embeddings, chunks, file_name)\n",
    "create_index(collection)"
   ]
  },
  {
   "cell_type": "markdown",
   "id": "3d288c48",
   "metadata": {},
   "source": [
    "Perform Testing Locally to verify data is inserted."
   ]
  },
  {
   "cell_type": "code",
   "execution_count": null,
   "id": "979ae654",
   "metadata": {},
   "outputs": [],
   "source": [
    "collection.load()\n",
    "\n",
    "# Define the search function\n",
    "def search_text_chunks(collection, query_text, top_k=5):\n",
    "    from sentence_transformers import SentenceTransformer\n",
    "    import numpy as np\n",
    "\n",
    "    model = SentenceTransformer('all-MiniLM-L6-v2')  # or your existing model\n",
    "    query_embedding = model.encode(query_text, convert_to_numpy=True)\n",
    "\n",
    "    # Check vector shape before searching\n",
    "    if query_embedding.shape[0] != 384:\n",
    "        raise ValueError(f\"Query embedding must have shape (384,), got {query_embedding.shape}\")\n",
    "\n",
    "    search_params = {\"metric_type\": \"L2\", \"params\": {\"nprobe\": 64}}\n",
    "\n",
    "    try:\n",
    "        results = collection.search(\n",
    "            data=[query_embedding],\n",
    "            anns_field=\"embedding\",\n",
    "            param=search_params,\n",
    "            limit=top_k,\n",
    "            output_fields=[\"text\", \"file_name\"]\n",
    "        )\n",
    "    except Exception as e:\n",
    "        print(\"❌ Search failed:\", e)\n",
    "        raise\n",
    "\n",
    "    formatted_results = []\n",
    "    for result in results:\n",
    "        for hit in result:\n",
    "            formatted_results.append({\n",
    "                'id': hit.id,\n",
    "                'distance': hit.distance,\n",
    "                'text': hit.entity.get('text'),\n",
    "                'file_name': hit.entity.get('file_name')\n",
    "            })\n",
    "\n",
    "    return formatted_results\n",
    "\n",
    "# Query and display results\n",
    "query = \"<user query>\"\n",
    "#sample question :What are the steps for dismantling of brake cylinder?\n",
    "results = search_text_chunks(collection, query)\n",
    "\n",
    "# Output results\n",
    "print(\"Search Results:\")\n",
    "for res in results:\n",
    "    print(f\"ID: {res['id']}, Distance: {res['distance']:.4f}\")\n",
    "    print(f\"File: {res['file_name']}\")\n",
    "    print(f\"Text: {res['text']}\")\n",
    "    print(\"-\" * 60)\n"
   ]
  },
  {
   "cell_type": "markdown",
   "id": "c617071c",
   "metadata": {},
   "source": [
    "Provide IDS created in above steps in below step "
   ]
  },
  {
   "cell_type": "code",
   "execution_count": null,
   "id": "e2c38b11",
   "metadata": {},
   "outputs": [],
   "source": [
    "ids_to_query = [\n",
    "    457984710530969383,\n",
    "    457984710530968943,\n",
    "    457984710530968939,\n",
    "    457984710530969377,\n",
    "    457984710530968944\n",
    "]\n",
    "\n",
    "# Initialize a list to store results\n",
    "all_results = []\n",
    "\n",
    "# Query the collection for each ID\n",
    "for id in ids_to_query:\n",
    "    try:\n",
    "        query_expr = f\"id == {id}\"\n",
    "        results = collection.query(\n",
    "            expr=query_expr,\n",
    "            output_fields=[\"id\", \"text\", \"file_name\"]\n",
    "        )\n",
    "\n",
    "        all_results.extend(results)\n",
    "    except Exception as e:\n",
    "        print(f\"Error querying ID {id}: {e}\")\n",
    "\n",
    "# Output results\n",
    "for result in all_results:\n",
    "    print(\"************\")\n",
    "    print(f\"ID: {result['id']}\")\n",
    "    print(f\"Text: {result['text']}\")\n",
    "    print(f\"File: {result.get('file_name')}\")"
   ]
  }
 ],
 "metadata": {
  "kernelspec": {
   "display_name": "venv",
   "language": "python",
   "name": "python3"
  },
  "language_info": {
   "codemirror_mode": {
    "name": "ipython",
    "version": 3
   },
   "file_extension": ".py",
   "mimetype": "text/x-python",
   "name": "python",
   "nbconvert_exporter": "python",
   "pygments_lexer": "ipython3",
   "version": "3.12.4"
  }
 },
 "nbformat": 4,
 "nbformat_minor": 5
}
